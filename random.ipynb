{
 "cells": [
  {
   "cell_type": "code",
   "execution_count": 6,
   "metadata": {
    "collapsed": false
   },
   "outputs": [
    {
     "name": "stdout",
     "output_type": "stream",
     "text": [
      "fake commit lol\n"
     ]
    }
   ],
   "source": [
    "print 'fake commit lol'"
   ]
  },
  {
   "cell_type": "code",
   "execution_count": 7,
   "metadata": {
    "collapsed": true
   },
   "outputs": [],
   "source": [
    "import git_jupyter as lol"
   ]
  },
  {
   "cell_type": "code",
   "execution_count": 8,
   "metadata": {
    "collapsed": false
   },
   "outputs": [],
   "source": [
    "x=lol.Jupyter('random.ipynb','**************','projects','**************','**********')"
   ]
  },
  {
   "cell_type": "code",
   "execution_count": 10,
   "metadata": {
    "collapsed": false
   },
   "outputs": [],
   "source": [
    "x.create_file('random.ipynb','testing')"
   ]
  },
  {
   "cell_type": "code",
   "execution_count": 11,
   "metadata": {
    "collapsed": false
   },
   "outputs": [
    {
     "data": {
      "text/plain": [
       "{u'commit': {u'author': {u'date': u'2017-01-07T06:29:19Z',\n",
       "   u'email': u'**************@outlook.com',\n",
       "   u'name': u'Mohd Huzaifa Faruqui'},\n",
       "  u'committer': {u'date': u'2017-01-07T06:29:19Z',\n",
       "   u'email': u'**************@outlook.com',\n",
       "   u'name': u'Mohd Huzaifa Faruqui'},\n",
       "  u'html_url': u'https://github.com/**************/projects/commit/abdb064ded567dd4bc6b204f33f732a5a0a31dd3',\n",
       "  u'message': u'check',\n",
       "  u'parents': [{u'html_url': u'https://github.com/**************/projects/commit/3d08f04e41d75f63d0ed2c392c87f3dc6b69fc3d',\n",
       "    u'sha': u'3d08f04e41d75f63d0ed2c392c87f3dc6b69fc3d',\n",
       "    u'url': u'https://api.github.com/repos/**************/projects/git/commits/3d08f04e41d75f63d0ed2c392c87f3dc6b69fc3d'}],\n",
       "  u'sha': u'abdb064ded567dd4bc6b204f33f732a5a0a31dd3',\n",
       "  u'tree': {u'sha': u'90945d721104eb3153eb19fdf981b02e837fe847',\n",
       "   u'url': u'https://api.github.com/repos/**************/projects/git/trees/90945d721104eb3153eb19fdf981b02e837fe847'},\n",
       "  u'url': u'https://api.github.com/repos/**************/projects/git/commits/abdb064ded567dd4bc6b204f33f732a5a0a31dd3'},\n",
       " u'content': None}"
      ]
     },
     "execution_count": 11,
     "metadata": {},
     "output_type": "execute_result"
    }
   ],
   "source": [
    "x.delete_file('random.ipynb','check')"
   ]
  },
  {
   "cell_type": "code",
   "execution_count": null,
   "metadata": {
    "collapsed": true
   },
   "outputs": [],
   "source": []
  }
 ],
 "metadata": {
  "anaconda-cloud": {},
  "kernelspec": {
   "display_name": "Python [conda root]",
   "language": "python",
   "name": "conda-root-py"
  },
  "language_info": {
   "codemirror_mode": {
    "name": "ipython",
    "version": 2
   },
   "file_extension": ".py",
   "mimetype": "text/x-python",
   "name": "python",
   "nbconvert_exporter": "python",
   "pygments_lexer": "ipython2",
   "version": "2.7.12"
  }
 },
 "nbformat": 4,
 "nbformat_minor": 1
}
